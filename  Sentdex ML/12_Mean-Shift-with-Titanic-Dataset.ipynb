{
 "cells": [
  {
   "cell_type": "code",
   "execution_count": 6,
   "metadata": {},
   "outputs": [
    {
     "name": "stderr",
     "output_type": "stream",
     "text": [
      "G:\\Anaconda\\lib\\site-packages\\sklearn\\cross_validation.py:41: DeprecationWarning: This module was deprecated in version 0.18 in favor of the model_selection module into which all the refactored classes and functions are moved. Also note that the interface of the new CV iterators are different from that of this module. This module will be removed in 0.20.\n",
      "  \"This module will be removed in 0.20.\", DeprecationWarning)\n"
     ]
    },
    {
     "data": {
      "text/plain": [
       "MeanShift(bandwidth=None, bin_seeding=False, cluster_all=True, min_bin_freq=1,\n",
       "     n_jobs=1, seeds=None)"
      ]
     },
     "execution_count": 6,
     "metadata": {},
     "output_type": "execute_result"
    }
   ],
   "source": [
    "import numpy as np\n",
    "from sklearn.cluster import MeanShift, KMeans\n",
    "from sklearn import preprocessing, cross_validation\n",
    "import pandas as pd\n",
    "import matplotlib.pyplot as plt\n",
    "\n",
    "\n",
    "'''\n",
    "Pclass Passenger Class (1 = 1st; 2 = 2nd; 3 = 3rd)\n",
    "survival Survival (0 = No; 1 = Yes)\n",
    "name Name\n",
    "sex Sex\n",
    "age Age\n",
    "sibsp Number of Siblings/Spouses Aboard\n",
    "parch Number of Parents/Children Aboard\n",
    "ticket Ticket Number\n",
    "fare Passenger Fare (British pound)\n",
    "cabin Cabin\n",
    "embarked Port of Embarkation (C = Cherbourg; Q = Queenstown; S = Southampton)\n",
    "boat Lifeboat\n",
    "body Body Identification Number\n",
    "home.dest Home/Destination\n",
    "'''\n",
    "\n",
    "\n",
    "# https://pythonprogramming.net/static/downloads/machine-learning-data/titanic.xls\n",
    "df = pd.read_excel('titanic.xls')\n",
    "\n",
    "original_df = pd.DataFrame.copy(df)\n",
    "df.drop(['body','name'], 1, inplace=True)\n",
    "df.fillna(0,inplace=True)\n",
    "\n",
    "def handle_non_numerical_data(df):\n",
    "    \n",
    "    # handling non-numerical data: must convert.\n",
    "    columns = df.columns.values\n",
    "\n",
    "    for column in columns:\n",
    "        text_digit_vals = {}\n",
    "        def convert_to_int(val):\n",
    "            return text_digit_vals[val]\n",
    "\n",
    "        #print(column,df[column].dtype)\n",
    "        if df[column].dtype != np.int64 and df[column].dtype != np.float64:\n",
    "            \n",
    "            column_contents = df[column].values.tolist()\n",
    "            #finding just the uniques\n",
    "            unique_elements = set(column_contents)\n",
    "            # great, found them. \n",
    "            x = 0\n",
    "            for unique in unique_elements:\n",
    "                if unique not in text_digit_vals:\n",
    "                    # creating dict that contains new\n",
    "                    # id per unique string\n",
    "                    text_digit_vals[unique] = x\n",
    "                    x+=1\n",
    "            # now we map the new \"id\" vlaue\n",
    "            # to replace the string. \n",
    "            df[column] = list(map(convert_to_int,df[column]))\n",
    "\n",
    "    return df\n",
    "\n",
    "df = handle_non_numerical_data(df)\n",
    "df.drop(['ticket','home.dest'], 1, inplace=True)\n",
    "\n",
    "X = np.array(df.drop(['survived'], 1).astype(float))\n",
    "X = preprocessing.scale(X)\n",
    "y = np.array(df['survived'])\n",
    "\n",
    "clf = MeanShift()\n",
    "clf.fit(X)"
   ]
  },
  {
   "cell_type": "code",
   "execution_count": 7,
   "metadata": {},
   "outputs": [
    {
     "name": "stderr",
     "output_type": "stream",
     "text": [
      "G:\\Anaconda\\lib\\site-packages\\pandas\\core\\indexing.py:189: SettingWithCopyWarning: \n",
      "A value is trying to be set on a copy of a slice from a DataFrame\n",
      "\n",
      "See the caveats in the documentation: http://pandas.pydata.org/pandas-docs/stable/indexing.html#indexing-view-versus-copy\n",
      "  self._setitem_with_indexer(indexer, value)\n"
     ]
    },
    {
     "name": "stdout",
     "output_type": "stream",
     "text": [
      "{0: 0.37290836653386455, 1: 1.0, 2: 0.6578947368421053, 3: 0.1}\n"
     ]
    }
   ],
   "source": [
    "labels = clf.labels_\n",
    "cluster_centers = clf.cluster_centers_\n",
    "\n",
    "original_df['cluster_group']=np.nan\n",
    "\n",
    "for i in range(len(X)):\n",
    "    original_df['cluster_group'].iloc[i] = labels[i]\n",
    "    \n",
    "n_clusters_ = len(np.unique(labels))\n",
    "\n",
    "survival_rates = {}\n",
    "for i in range(n_clusters_):\n",
    "    temp_df = original_df[ (original_df['cluster_group']==float(i)) ]\n",
    "    #print(temp_df.head())\n",
    "\n",
    "    survival_cluster = temp_df[  (temp_df['survived'] == 1) ]\n",
    "\n",
    "    survival_rate = len(survival_cluster) / len(temp_df)\n",
    "    #print(i,survival_rate)\n",
    "    survival_rates[i] = survival_rate\n",
    "    \n",
    "print(survival_rates)"
   ]
  },
  {
   "cell_type": "code",
   "execution_count": 8,
   "metadata": {},
   "outputs": [
    {
     "name": "stdout",
     "output_type": "stream",
     "text": [
      "            pclass     survived         age        sibsp        parch  \\\n",
      "count  1255.000000  1255.000000  994.000000  1255.000000  1255.000000   \n",
      "mean      2.334661     0.372908   29.413649     0.486056     0.308367   \n",
      "std       0.817201     0.483771   14.242769     1.047327     0.660857   \n",
      "min       1.000000     0.000000    0.166700     0.000000     0.000000   \n",
      "25%       2.000000     0.000000   21.000000     0.000000     0.000000   \n",
      "50%       3.000000     0.000000   28.000000     0.000000     0.000000   \n",
      "75%       3.000000     1.000000   38.000000     1.000000     0.000000   \n",
      "max       3.000000     1.000000   80.000000     8.000000     4.000000   \n",
      "\n",
      "             fare        body  cluster_group  \n",
      "count  1254.00000  114.000000         1255.0  \n",
      "mean     26.04682  161.991228            0.0  \n",
      "std      30.16197   98.488173            0.0  \n",
      "min       0.00000    1.000000            0.0  \n",
      "25%       7.89580   70.500000            0.0  \n",
      "50%      13.50000  165.500000            0.0  \n",
      "75%      28.35000  257.500000            0.0  \n",
      "max     227.52500  328.000000            0.0  \n",
      "       pclass  survived        age  sibsp     parch        fare  body  \\\n",
      "count     6.0       6.0   6.000000    6.0  6.000000    6.000000   0.0   \n",
      "mean      1.0       1.0  40.833333    0.0  0.333333  429.011133   NaN   \n",
      "std       0.0       0.0   9.239408    0.0  0.516398  129.075794   NaN   \n",
      "min       1.0       1.0  35.000000    0.0  0.000000  262.375000   NaN   \n",
      "25%       1.0       1.0  35.250000    0.0  0.000000  324.863550   NaN   \n",
      "50%       1.0       1.0  36.000000    0.0  0.000000  512.329200   NaN   \n",
      "75%       1.0       1.0  42.750000    0.0  0.750000  512.329200   NaN   \n",
      "max       1.0       1.0  58.000000    0.0  1.000000  512.329200   NaN   \n",
      "\n",
      "       cluster_group  \n",
      "count            6.0  \n",
      "mean             1.0  \n",
      "std              0.0  \n",
      "min              1.0  \n",
      "25%              1.0  \n",
      "50%              1.0  \n",
      "75%              1.0  \n",
      "max              1.0  \n",
      "       pclass   survived        age      sibsp      parch        fare  \\\n",
      "count    38.0  38.000000  38.000000  38.000000  38.000000   38.000000   \n",
      "mean      1.0   0.657895  38.276316   0.921053   1.447368  207.543968   \n",
      "std       0.0   0.480783  17.087492   0.941005   1.057722   55.969230   \n",
      "min       1.0   0.000000   6.000000   0.000000   0.000000   79.200000   \n",
      "25%       1.0   0.000000  24.250000   0.000000   1.000000  156.313550   \n",
      "50%       1.0   1.000000  37.000000   1.000000   1.500000  221.779200   \n",
      "75%       1.0   1.000000  50.000000   1.000000   2.000000  262.375000   \n",
      "max       1.0   1.000000  67.000000   3.000000   4.000000  263.000000   \n",
      "\n",
      "             body  cluster_group  \n",
      "count    5.000000           38.0  \n",
      "mean   104.400000            2.0  \n",
      "std     36.156604            0.0  \n",
      "min     45.000000            2.0  \n",
      "25%     96.000000            2.0  \n",
      "50%    122.000000            2.0  \n",
      "75%    124.000000            2.0  \n",
      "max    135.000000            2.0  \n",
      "       pclass   survived        age      sibsp      parch       fare  \\\n",
      "count    10.0  10.000000   8.000000  10.000000  10.000000  10.000000   \n",
      "mean      3.0   0.100000  39.875000   0.800000   6.000000  42.703750   \n",
      "std       0.0   0.316228   1.552648   0.421637   1.632993  15.590194   \n",
      "min       3.0   0.000000  38.000000   0.000000   5.000000  29.125000   \n",
      "25%       3.0   0.000000  39.000000   1.000000   5.000000  31.303125   \n",
      "50%       3.0   0.000000  39.500000   1.000000   5.000000  35.537500   \n",
      "75%       3.0   0.000000  40.250000   1.000000   6.000000  46.900000   \n",
      "max       3.0   1.000000  43.000000   1.000000   9.000000  69.550000   \n",
      "\n",
      "             body  cluster_group  \n",
      "count    2.000000           10.0  \n",
      "mean   234.500000            3.0  \n",
      "std    130.814755            0.0  \n",
      "min    142.000000            3.0  \n",
      "25%    188.250000            3.0  \n",
      "50%    234.500000            3.0  \n",
      "75%    280.750000            3.0  \n",
      "max    327.000000            3.0  \n"
     ]
    }
   ],
   "source": [
    "# print(original_df[ (original_df['cluster_group']==1) ])\n",
    "print(original_df[ (original_df['cluster_group']==0) ].describe())\n",
    "print(original_df[ (original_df['cluster_group']==1) ].describe())\n",
    "print(original_df[ (original_df['cluster_group']==2) ].describe())\n",
    "print(original_df[ (original_df['cluster_group']==3) ].describe())"
   ]
  },
  {
   "cell_type": "code",
   "execution_count": 9,
   "metadata": {},
   "outputs": [
    {
     "name": "stdout",
     "output_type": "stream",
     "text": [
      "       pclass    survived         age       sibsp       parch        fare  \\\n",
      "count   279.0  279.000000  240.000000  279.000000  279.000000  279.000000   \n",
      "mean      1.0    0.605735   39.257986    0.379928    0.218638   63.816010   \n",
      "std       0.0    0.489570   14.262463    0.521921    0.507721   41.587892   \n",
      "min       1.0    0.000000    0.916700    0.000000    0.000000    0.000000   \n",
      "25%       1.0    0.000000   28.875000    0.000000    0.000000   30.000000   \n",
      "50%       1.0    1.000000   39.000000    0.000000    0.000000   53.100000   \n",
      "75%       1.0    1.000000   49.000000    1.000000    0.000000   81.858300   \n",
      "max       1.0    1.000000   80.000000    2.000000    2.000000  227.525000   \n",
      "\n",
      "             body  cluster_group  \n",
      "count   30.000000          279.0  \n",
      "mean   172.566667            0.0  \n",
      "std     84.511449            0.0  \n",
      "min     16.000000            0.0  \n",
      "25%    114.000000            0.0  \n",
      "50%    173.500000            0.0  \n",
      "75%    242.250000            0.0  \n",
      "max    307.000000            0.0  \n"
     ]
    }
   ],
   "source": [
    "cluster_0 = (original_df[ (original_df['cluster_group']==0) ])\n",
    "cluster_0_fc = (cluster_0[ (cluster_0['pclass']==1) ])\n",
    "print(cluster_0_fc.describe())"
   ]
  },
  {
   "cell_type": "code",
   "execution_count": 10,
   "metadata": {},
   "outputs": [
    {
     "name": "stdout",
     "output_type": "stream",
     "text": [
      "     pclass  survived                                               name  \\\n",
      "35        1         1                           Bowen, Miss. Grace Scott   \n",
      "49        1         1                 Cardeza, Mr. Thomas Drake Martinez   \n",
      "50        1         1  Cardeza, Mrs. James Warburton Martinez (Charlo...   \n",
      "66        1         1                        Chaudanson, Miss. Victorine   \n",
      "183       1         1                             Lesurer, Mr. Gustave J   \n",
      "302       1         1                                   Ward, Miss. Anna   \n",
      "\n",
      "        sex   age  sibsp  parch    ticket      fare        cabin embarked  \\\n",
      "35   female  45.0      0      0  PC 17608  262.3750          NaN        C   \n",
      "49     male  36.0      0      1  PC 17755  512.3292  B51 B53 B55        C   \n",
      "50   female  58.0      0      1  PC 17755  512.3292  B51 B53 B55        C   \n",
      "66   female  36.0      0      0  PC 17608  262.3750          B61        C   \n",
      "183    male  35.0      0      0  PC 17755  512.3292         B101        C   \n",
      "302  female  35.0      0      0  PC 17755  512.3292          NaN        C   \n",
      "\n",
      "    boat  body                                       home.dest  cluster_group  \n",
      "35     4   NaN                                 Cooperstown, NY            1.0  \n",
      "49     3   NaN  Austria-Hungary / Germantown, Philadelphia, PA            1.0  \n",
      "50     3   NaN                    Germantown, Philadelphia, PA            1.0  \n",
      "66     4   NaN                                             NaN            1.0  \n",
      "183    3   NaN                                             NaN            1.0  \n",
      "302    3   NaN                                             NaN            1.0  \n"
     ]
    }
   ],
   "source": [
    "print(original_df[ (original_df['cluster_group']==1) ])"
   ]
  },
  {
   "cell_type": "code",
   "execution_count": null,
   "metadata": {},
   "outputs": [],
   "source": []
  }
 ],
 "metadata": {
  "kernelspec": {
   "display_name": "Python 3",
   "language": "python",
   "name": "python3"
  },
  "language_info": {
   "codemirror_mode": {
    "name": "ipython",
    "version": 3
   },
   "file_extension": ".py",
   "mimetype": "text/x-python",
   "name": "python",
   "nbconvert_exporter": "python",
   "pygments_lexer": "ipython3",
   "version": "3.6.5"
  }
 },
 "nbformat": 4,
 "nbformat_minor": 2
}
